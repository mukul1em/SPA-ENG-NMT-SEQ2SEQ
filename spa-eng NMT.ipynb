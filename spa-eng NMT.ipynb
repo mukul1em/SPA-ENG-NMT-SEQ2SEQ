{
 "cells": [
  {
   "cell_type": "code",
   "execution_count": 1,
   "metadata": {},
   "outputs": [
    {
     "name": "stderr",
     "output_type": "stream",
     "text": [
      "Using TensorFlow backend.\n"
     ]
    }
   ],
   "source": [
    "from keras.models import Model\n",
    "from keras.layers import Input,LSTM,Dense,Embedding\n",
    "from keras.preprocessing.text import Tokenizer\n",
    "from keras.preprocessing.sequence import pad_sequences\n",
    "from keras.utils import to_categorical\n",
    "import numpy as np\n",
    "import pandas as pd"
   ]
  },
  {
   "cell_type": "code",
   "execution_count": 63,
   "metadata": {},
   "outputs": [],
   "source": [
    "#some config\n",
    "batch_size=64\n",
    "epochs=40\n",
    "LATENT_DIM=256\n",
    "num_samples=10000\n",
    "MAX_NUM_WORDS=20000\n",
    "EMBEDDING_DIM=100"
   ]
  },
  {
   "cell_type": "code",
   "execution_count": 4,
   "metadata": {},
   "outputs": [],
   "source": [
    "#where we will store the data\n",
    "input_text=[] #sentence in original language\n",
    "target_text=[]#sentence in target language\n",
    "\n",
    "target_texts_inputs=[] #sentence target language offset by 1 since we are using teacher forcing\n",
    " \n"
   ]
  },
  {
   "cell_type": "code",
   "execution_count": 39,
   "metadata": {},
   "outputs": [],
   "source": [
    "input_texts=[]\n",
    "target_texts=[]\n",
    "target_input_texts=[]\n",
    "with open(r'F:\\mukulml\\NLP\\spa-eng\\spa.txt',encoding='utf-8',errors='ignore') as f:\n",
    "    lines=f.read()\n",
    "    lines=lines.strip().split('\\n')[:num_samples]\n",
    "    for line in lines:\n",
    "        input_text,translation=line.split('\\t')[:2]\n",
    "        target_text=translation + ' <eos>'\n",
    "\n",
    "        target_input_text='<sos> ' + translation\n",
    "        \n",
    "        input_texts.append(input_text)\n",
    "        target_texts.append(target_text)\n",
    "        target_input_texts.append(target_input_text)"
   ]
  },
  {
   "cell_type": "code",
   "execution_count": 40,
   "metadata": {},
   "outputs": [
    {
     "name": "stdout",
     "output_type": "stream",
     "text": [
      "num_samples: 10000\n"
     ]
    }
   ],
   "source": [
    "print('num_samples:',len(input_texts))"
   ]
  },
  {
   "cell_type": "code",
   "execution_count": 41,
   "metadata": {},
   "outputs": [],
   "source": [
    "#tokenize the inputs\n",
    "tokenizer=Tokenizer(num_words=MAX_NUM_WORDS)\n",
    "tokenizer.fit_on_texts(input_texts)\n",
    "input_sequences=tokenizer.texts_to_sequences(input_texts)"
   ]
  },
  {
   "cell_type": "code",
   "execution_count": 46,
   "metadata": {},
   "outputs": [
    {
     "name": "stdout",
     "output_type": "stream",
     "text": [
      "found 2337 number of unique words\n"
     ]
    }
   ],
   "source": [
    "#get the word to index mapping for input language\n",
    "word2idx_input=tokenizer.word_index\n",
    "print('found %s number of unique words'% len(word2idx_input))"
   ]
  },
  {
   "cell_type": "code",
   "execution_count": 47,
   "metadata": {},
   "outputs": [],
   "source": [
    "#maximum input length sequence\n",
    "max_len_input=max(len(s) for s in input_sequences)"
   ]
  },
  {
   "cell_type": "code",
   "execution_count": 48,
   "metadata": {},
   "outputs": [
    {
     "data": {
      "text/plain": [
       "5"
      ]
     },
     "execution_count": 48,
     "metadata": {},
     "output_type": "execute_result"
    }
   ],
   "source": [
    "max_len_input"
   ]
  },
  {
   "cell_type": "code",
   "execution_count": 49,
   "metadata": {},
   "outputs": [],
   "source": [
    "#tokenize the outputs \n",
    "#dont filter the special characters\n",
    "#otherwise <sos> and <eos> wont appear\n",
    "tokenizer_o=Tokenizer(num_words=MAX_NUM_WORDS,filters='')\n",
    "tokenizer_o.fit_on_texts(target_texts+target_input_texts)\n",
    "target_sequences=tokenizer_o.texts_to_sequences(target_texts)\n",
    "target_sequences_inputs=tokenizer_o.texts_to_sequences(target_input_texts)"
   ]
  },
  {
   "cell_type": "code",
   "execution_count": 50,
   "metadata": {},
   "outputs": [
    {
     "name": "stdout",
     "output_type": "stream",
     "text": [
      "found 6316 unique o/p tokens:\n"
     ]
    }
   ],
   "source": [
    "#get the word mapping for output language \n",
    "word2idx_outputs=tokenizer_o.word_index\n",
    "print('found %s unique o/p tokens:'% len(word2idx_outputs))"
   ]
  },
  {
   "cell_type": "code",
   "execution_count": 51,
   "metadata": {},
   "outputs": [],
   "source": [
    "num_words_output=len(word2idx_outputs)+1"
   ]
  },
  {
   "cell_type": "code",
   "execution_count": 54,
   "metadata": {},
   "outputs": [],
   "source": [
    "max_len_target=max(len(s) for s in target_sequences)"
   ]
  },
  {
   "cell_type": "code",
   "execution_count": 56,
   "metadata": {},
   "outputs": [
    {
     "name": "stdout",
     "output_type": "stream",
     "text": [
      "encoder_inputs.shape: (10000, 5)\n",
      "encoder_inputs[0]: [15  0  0  0  0]\n"
     ]
    }
   ],
   "source": [
    "#pad sequences\n",
    "encoder_inputs=pad_sequences(input_sequences,maxlen=max_len_input,padding='post')\n",
    "print(\"encoder_inputs.shape:\", encoder_inputs.shape)\n",
    "print(\"encoder_inputs[0]:\", encoder_inputs[0])"
   ]
  },
  {
   "cell_type": "code",
   "execution_count": 57,
   "metadata": {},
   "outputs": [
    {
     "name": "stdout",
     "output_type": "stream",
     "text": [
      "decoder_inputs[0]: [   2 1468    0    0    0    0    0    0    0]\n",
      "decoder_inputs.shape: (10000, 9)\n"
     ]
    }
   ],
   "source": [
    "decoder_inputs=pad_sequences(target_sequences_inputs,maxlen=max_len_target,padding='post')\n",
    "print(\"decoder_inputs[0]:\", decoder_inputs[0])\n",
    "print(\"decoder_inputs.shape:\", decoder_inputs.shape)\n"
   ]
  },
  {
   "cell_type": "code",
   "execution_count": 58,
   "metadata": {},
   "outputs": [],
   "source": [
    "decoder_targets=pad_sequences(target_sequences,maxlen=max_len_target,padding='post')"
   ]
  },
  {
   "cell_type": "code",
   "execution_count": 60,
   "metadata": {},
   "outputs": [
    {
     "name": "stdout",
     "output_type": "stream",
     "text": [
      "Loading word vectors...\n",
      "Found 400000 word vectors.\n"
     ]
    }
   ],
   "source": [
    "print('Loading word vectors...')\n",
    "word2vec = {}\n",
    "with open(r'F:\\mukulml\\NLP\\spa-eng\\glove.6B.100d.txt',encoding='utf-8') as f:\n",
    "  # is just a space-separated text file in the format:\n",
    "  # word vec[0] vec[1] vec[2] ...\n",
    "  for line in f:\n",
    "    values = line.split()\n",
    "    word = values[0]\n",
    "    vec = np.asarray(values[1:], dtype='float32')\n",
    "    word2vec[word] = vec\n",
    "print('Found %s word vectors.' % len(word2vec))"
   ]
  },
  {
   "cell_type": "code",
   "execution_count": 66,
   "metadata": {},
   "outputs": [],
   "source": [
    "#prepare embedding matrix\n",
    "num_words=min(MAX_NUM_WORDS,len(word2idx_input)+1)\n",
    "embedding_matrix=np.zeros((num_words,EMBEDDING_DIM))\n",
    "for word,i in word2idx_input.items():\n",
    "    if i<MAX_NUM_WORDS:\n",
    "        embedding_vector=word2vec.get(word)\n",
    "    if embedding_vector is not None:\n",
    "        embedding_matrix[i]=embedding_vector\n",
    "        "
   ]
  },
  {
   "cell_type": "code",
   "execution_count": 67,
   "metadata": {},
   "outputs": [],
   "source": [
    "#create Embedding layer\n",
    "embedding_layer=Embedding(num_words,EMBEDDING_DIM,weights=[embedding_matrix],input_length=max_len_input)"
   ]
  },
  {
   "cell_type": "code",
   "execution_count": 69,
   "metadata": {},
   "outputs": [],
   "source": [
    "#create targets,since we cannot use sparse categorical crossentropy\n",
    "#when we have sequences\n",
    "decoder_target_one_hot=np.zeros((len(input_texts),max_len_target,num_words_output),dtype='float32')"
   ]
  },
  {
   "cell_type": "code",
   "execution_count": 70,
   "metadata": {},
   "outputs": [],
   "source": [
    "#assign values\n",
    "for i,d in enumerate(decoder_targets):\n",
    "    for t, word in enumerate(d):\n",
    "        decoder_target_one_hot[i,t,word]=1\n",
    "        "
   ]
  },
  {
   "cell_type": "code",
   "execution_count": 71,
   "metadata": {},
   "outputs": [
    {
     "data": {
      "text/plain": [
       "array([[[0., 0., 0., ..., 0., 0., 0.],\n",
       "        [0., 1., 0., ..., 0., 0., 0.],\n",
       "        [1., 0., 0., ..., 0., 0., 0.],\n",
       "        ...,\n",
       "        [1., 0., 0., ..., 0., 0., 0.],\n",
       "        [1., 0., 0., ..., 0., 0., 0.],\n",
       "        [1., 0., 0., ..., 0., 0., 0.]]], dtype=float32)"
      ]
     },
     "execution_count": 71,
     "metadata": {},
     "output_type": "execute_result"
    }
   ],
   "source": [
    "decoder_target_one_hot[:1]"
   ]
  },
  {
   "cell_type": "code",
   "execution_count": 74,
   "metadata": {},
   "outputs": [],
   "source": [
    "#building the model\n",
    "encoder_inputs_placeholder=Input(shape=(max_len_input,))\n",
    "x=embedding_layer(encoder_inputs_placeholder)\n",
    "encoder=LSTM(LATENT_DIM,return_state=True)\n",
    "encoder_outputs,state_h,state_c=encoder(x)"
   ]
  },
  {
   "cell_type": "code",
   "execution_count": 76,
   "metadata": {},
   "outputs": [],
   "source": [
    "#keep only the states to pass into decoder\n",
    "encoder_states=[state_h,state_c] #[state_h] for gru"
   ]
  },
  {
   "cell_type": "code",
   "execution_count": 77,
   "metadata": {},
   "outputs": [],
   "source": [
    "decoder_inputs_placeholder=Input(shape=(max_len_target,))\n"
   ]
  },
  {
   "cell_type": "code",
   "execution_count": 78,
   "metadata": {},
   "outputs": [],
   "source": [
    "decoder_embedding=Embedding(num_words_output,LATENT_DIM)\n",
    "decoder_inputs_x=decoder_embedding(decoder_inputs_placeholder)"
   ]
  },
  {
   "cell_type": "code",
   "execution_count": 79,
   "metadata": {},
   "outputs": [],
   "source": [
    "#since the decoder is a 'to-many' model we want to have \n",
    "#return_sequences = true\n",
    "\n",
    "decoder_lstm=LSTM(LATENT_DIM,return_sequences=True,return_state=True)"
   ]
  },
  {
   "cell_type": "code",
   "execution_count": 80,
   "metadata": {},
   "outputs": [],
   "source": [
    "decoder_outputs, _, _ = decoder_lstm(\n",
    "  decoder_inputs_x,\n",
    "  initial_state=encoder_states\n",
    ")\n"
   ]
  },
  {
   "cell_type": "code",
   "execution_count": 81,
   "metadata": {},
   "outputs": [],
   "source": [
    "#final dense layer for the prediction\n",
    "decoder_dense=Dense(num_words_output,activation='softmax')\n",
    "decoder_outputs=decoder_dense(decoder_outputs)"
   ]
  },
  {
   "cell_type": "code",
   "execution_count": 85,
   "metadata": {},
   "outputs": [],
   "source": [
    "model=Model([encoder_inputs_placeholder,decoder_inputs_placeholder],decoder_outputs)"
   ]
  },
  {
   "cell_type": "code",
   "execution_count": 86,
   "metadata": {},
   "outputs": [],
   "source": [
    "model.compile(loss='categorical_crossentropy',optimizer='adam',metrics=['accuracy'])"
   ]
  },
  {
   "cell_type": "code",
   "execution_count": 88,
   "metadata": {},
   "outputs": [
    {
     "name": "stdout",
     "output_type": "stream",
     "text": [
      "WARNING:tensorflow:From C:\\Users\\HP\\Anaconda3\\lib\\site-packages\\tensorflow\\python\\ops\\math_ops.py:3066: to_int32 (from tensorflow.python.ops.math_ops) is deprecated and will be removed in a future version.\n",
      "Instructions for updating:\n",
      "Use tf.cast instead.\n",
      "WARNING:tensorflow:From C:\\Users\\HP\\Anaconda3\\lib\\site-packages\\tensorflow\\python\\ops\\math_grad.py:102: div (from tensorflow.python.ops.math_ops) is deprecated and will be removed in a future version.\n",
      "Instructions for updating:\n",
      "Deprecated in favor of operator or tf.math.divide.\n",
      "Train on 8000 samples, validate on 2000 samples\n",
      "Epoch 1/10\n",
      "8000/8000 [==============================] - 84s 11ms/step - loss: 3.8370 - acc: 0.5851 - val_loss: 3.0465 - val_acc: 0.5473\n",
      "Epoch 2/10\n",
      "8000/8000 [==============================] - 61s 8ms/step - loss: 2.4283 - acc: 0.6623 - val_loss: 2.8727 - val_acc: 0.6254\n",
      "Epoch 3/10\n",
      "8000/8000 [==============================] - 60s 8ms/step - loss: 2.2364 - acc: 0.7046 - val_loss: 2.7010 - val_acc: 0.6562\n",
      "Epoch 4/10\n",
      " 128/8000 [..............................] - ETA: 2:41 - loss: 2.0580 - acc: 0.7188"
     ]
    },
    {
     "name": "stderr",
     "output_type": "stream",
     "text": [
      "C:\\Users\\HP\\Anaconda3\\lib\\site-packages\\keras\\callbacks.py:122: UserWarning: Method on_batch_end() is slow compared to the batch update (0.876886). Check your callbacks.\n",
      "  % delta_t_median)\n"
     ]
    },
    {
     "name": "stdout",
     "output_type": "stream",
     "text": [
      "8000/8000 [==============================] - 76s 9ms/step - loss: 2.0892 - acc: 0.7131 - val_loss: 2.5838 - val_acc: 0.6594\n",
      "Epoch 5/10\n",
      "8000/8000 [==============================] - 60s 8ms/step - loss: 1.9688 - acc: 0.7179 - val_loss: 2.4853 - val_acc: 0.6681\n",
      "Epoch 6/10\n",
      "8000/8000 [==============================] - 62s 8ms/step - loss: 1.8622 - acc: 0.7258 - val_loss: 2.3983 - val_acc: 0.6760\n",
      "Epoch 7/10\n",
      "8000/8000 [==============================] - 60s 8ms/step - loss: 1.7583 - acc: 0.7355 - val_loss: 2.3331 - val_acc: 0.6838\n",
      "Epoch 8/10\n",
      "8000/8000 [==============================] - 58s 7ms/step - loss: 1.6603 - acc: 0.7461 - val_loss: 2.2699 - val_acc: 0.6963\n",
      "Epoch 9/10\n",
      "8000/8000 [==============================] - 59s 7ms/step - loss: 1.5707 - acc: 0.7563 - val_loss: 2.2213 - val_acc: 0.7021\n",
      "Epoch 10/10\n",
      "8000/8000 [==============================] - 57s 7ms/step - loss: 1.4883 - acc: 0.7644 - val_loss: 2.1795 - val_acc: 0.7087\n"
     ]
    }
   ],
   "source": [
    "r=model.fit([encoder_inputs,decoder_inputs],decoder_target_one_hot,batch_size=128,epochs=10,validation_split=0.2)"
   ]
  },
  {
   "cell_type": "code",
   "execution_count": 91,
   "metadata": {},
   "outputs": [
    {
     "data": {
      "image/png": "[encoded data removed]",
      "text/plain": [
       "<Figure size 432x288 with 1 Axes>"
      ]
     },
     "metadata": {
      "needs_background": "light"
     },
     "output_type": "display_data"
    }
   ],
   "source": [
    "#plot some datab\n",
    "%matplotlib inline\n",
    "\n",
    "import matplotlib.pyplot as plt\n",
    "plt.plot(r.history['loss'],label='loss')\n",
    "plt.plot(r.history['val_loss'],label='val_loss')\n",
    "plt.legend()\n",
    "plt.show()"
   ]
  },
  {
   "cell_type": "code",
   "execution_count": 92,
   "metadata": {},
   "outputs": [
    {
     "name": "stderr",
     "output_type": "stream",
     "text": [
      "C:\\Users\\HP\\Anaconda3\\lib\\site-packages\\keras\\engine\\network.py:877: UserWarning: Layer lstm_3 was passed non-serializable keyword arguments: {'initial_state': [<tf.Tensor 'lstm_2/while/Exit_3:0' shape=(?, 256) dtype=float32>, <tf.Tensor 'lstm_2/while/Exit_4:0' shape=(?, 256) dtype=float32>]}. They will not be included in the serialized model (and thus will be missing at deserialization time).\n",
      "  '. They will not be included '\n"
     ]
    }
   ],
   "source": [
    "\n",
    "model.save('s2s.h5')"
   ]
  },
  {
   "cell_type": "code",
   "execution_count": 94,
   "metadata": {},
   "outputs": [],
   "source": [
    "#make prediction\n",
    "#the encoder will be stand alone \n",
    "#from this we will get our initial decoder_hidden_state\n",
    "\n",
    "encoder_model=Model(encoder_inputs_placeholder,encoder_states)\n",
    "\n"
   ]
  },
  {
   "cell_type": "code",
   "execution_count": 95,
   "metadata": {},
   "outputs": [],
   "source": [
    "decoder_state_input_h=Input(shape=(LATENT_DIM,))\n",
    "decoder_state_input_c=Input(shape=(LATENT_DIM,))\n",
    "decoder_states_inputs = [decoder_state_input_h, decoder_state_input_c]"
   ]
  },
  {
   "cell_type": "code",
   "execution_count": 97,
   "metadata": {},
   "outputs": [],
   "source": [
    "decoder_inputs_single=Input(shape=(1,)) #generating one word at a time\n",
    "decoder_inputs_single_x=decoder_embedding(decoder_inputs_single)\n"
   ]
  },
  {
   "cell_type": "code",
   "execution_count": 98,
   "metadata": {},
   "outputs": [],
   "source": [
    "#this time we want to keep the states too, to be output\n",
    "#by our sampling model\n",
    "decoder_outputs,h,c=decoder_lstm(decoder_inputs_single_x,initial_state=decoder_states_inputs)"
   ]
  },
  {
   "cell_type": "code",
   "execution_count": 99,
   "metadata": {},
   "outputs": [],
   "source": [
    "decoder_states=[h,c]"
   ]
  },
  {
   "cell_type": "code",
   "execution_count": 100,
   "metadata": {},
   "outputs": [],
   "source": [
    "#the sampling model\n",
    "#inputs=y(t-1),h(t-1),c(t-1)\n",
    "#outputs=y(t),h(t),c(t)\n",
    "decoder_model=Model([decoder_inputs_single]+decoder_states_inputs,[decoder_outputs]+decoder_states)"
   ]
  },
  {
   "cell_type": "code",
   "execution_count": 102,
   "metadata": {},
   "outputs": [],
   "source": [
    "#map index back to real words\n",
    "#so wecan view the results\n",
    "\n",
    "idx2word_en={v:k for k,v in word2idx_input.items()}\n",
    "idx2word_spa={v:k for k,v in word2idx_outputs.items() }"
   ]
  },
  {
   "cell_type": "code",
   "execution_count": 104,
   "metadata": {},
   "outputs": [],
   "source": [
    "def decode_sequence(input_seq):\n",
    "    #encode the input as state vectors\n",
    "    state_value=encoder_model.predict(input_seq)\n",
    "    #generate empty target sequence of length 1 time step 1\n",
    "    target_seq=np.zeros((1,1))\n",
    "#populate the first character of target sequence with start ch.\n",
    "    target_seq[0,0]=word2idx_outputs['<sos>']\n",
    "    \n",
    "    #if we get this we break\n",
    "    eos = word2idx_outputs['<eos>']\n",
    "    \n",
    "    #create translation\n",
    "    output_sentence=[]\n",
    "    for _ in range(max_len_target):\n",
    "        output_tokens,h,c=decoder_model.predict([target_seq]+state_value)\n",
    "        \n",
    "        #get next word\n",
    "        idx=np.argmax(output_tokens[0,0,:])\n",
    "        \n",
    "        if eos==idx:\n",
    "            break\n",
    "        \n",
    "        word=''\n",
    "        if idx>0:\n",
    "            word=idx2word_spa[idx]\n",
    "            output_sentence.append(word)\n",
    "            \n",
    "            #update the decoder input\n",
    "            #which is just the word generated\n",
    "            \n",
    "            target_seq[0,0]=idx\n",
    "            \n",
    "            #update states\n",
    "            state_value=[h,c]\n",
    "            \n",
    "        return ' '.join(output_sentence)\n",
    "    "
   ]
  },
  {
   "cell_type": "code",
   "execution_count": 107,
   "metadata": {},
   "outputs": [
    {
     "name": "stdout",
     "output_type": "stream",
     "text": [
      "-\n",
      "Input: I was an idiot.\n",
      "translation: él.\n",
      "continue? [y/n]y\n",
      "-\n",
      "Input: Tom is in shock.\n",
      "translation: ¡no\n",
      "continue? [y/n]n\n"
     ]
    }
   ],
   "source": [
    "while True:\n",
    "    #do some translations\n",
    "    i=np.random.choice(len(input_texts))\n",
    "    \n",
    "    input_seq=encoder_inputs[i:i+1]\n",
    "    translation=decode_sequence(input_seq)\n",
    "    print('-')\n",
    "    print('Input:',input_texts[i])\n",
    "    print('translation:',translation)\n",
    "    \n",
    "    ans=input('continue? [y/n]')\n",
    "    if ans and ans.lower().startswith('n'):\n",
    "        break\n",
    "    \n"
   ]
  },
  {
   "cell_type": "code",
   "execution_count": null,
   "metadata": {},
   "outputs": [],
   "source": []
  }
 ],
 "metadata": {
  "kernelspec": {
   "display_name": "Python 3",
   "language": "python",
   "name": "python3"
  },
  "language_info": {
   "codemirror_mode": {
    "name": "ipython",
    "version": 3
   },
   "file_extension": ".py",
   "mimetype": "text/x-python",
   "name": "python",
   "nbconvert_exporter": "python",
   "pygments_lexer": "ipython3",
   "version": "3.7.1"
  }
 },
 "nbformat": 4,
 "nbformat_minor": 2
}
